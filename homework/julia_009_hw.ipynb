{
 "cells": [
  {
   "cell_type": "markdown",
   "metadata": {},
   "source": [
    "# 陣列 (Array)\n",
    "\n",
    "## Day 009 作業：比較不同的內建排序演算法\n",
    "\n",
    "除了範例程式示範的 QuickSort 之外，Julia 也內建支援幾種不同的排序演算法：\n",
    "\n",
    "- InsertionSort\n",
    "- PartialQuickSort(k)\n",
    "- MergeSort\n",
    "\n",
    "1. 請閱讀官方文件及範例 [Sorting-Algorithms](https://docs.julialang.org/en/v1/base/sort/#Sorting-Algorithms-1)\n",
    "\n",
    "2. 撰寫程式隨機產生 100000 個 200 到 500 之間的數字來建立陣列，執行不同排序方法，來比較不同排序方法的速度。\n",
    "\n",
    "**[提示]** 排序執行所需時間可以用巨集 `@time` 或 `@elapsed` 來取得。"
   ]
  },
  {
   "cell_type": "code",
   "execution_count": 1,
   "metadata": {},
   "outputs": [
    {
     "data": {
      "text/plain": [
       "100000-element Array{Int64,1}:\n",
       " 251\n",
       " 293\n",
       " 477\n",
       " 217\n",
       " 427\n",
       " 415\n",
       " 257\n",
       " 336\n",
       " 463\n",
       " 309\n",
       " 466\n",
       " 345\n",
       " 414\n",
       "   ⋮\n",
       " 352\n",
       " 251\n",
       " 368\n",
       " 305\n",
       " 238\n",
       " 357\n",
       " 327\n",
       " 245\n",
       " 274\n",
       " 482\n",
       " 397\n",
       " 397"
      ]
     },
     "execution_count": 1,
     "metadata": {},
     "output_type": "execute_result"
    }
   ],
   "source": [
    "# 產生 100000 個 200 到 500 之間的數字的陣列\n",
    "x = rand(200:500,100000)"
   ]
  },
  {
   "cell_type": "markdown",
   "metadata": {},
   "source": [
    "## Insertion Sort"
   ]
  },
  {
   "cell_type": "code",
   "execution_count": 2,
   "metadata": {},
   "outputs": [
    {
     "name": "stdout",
     "output_type": "stream",
     "text": [
      "  0.027536 seconds (107.67 k allocations: 6.440 MiB)\n"
     ]
    },
    {
     "data": {
      "text/plain": [
       "100000-element Array{Int64,1}:\n",
       " 200\n",
       " 200\n",
       " 200\n",
       " 200\n",
       " 200\n",
       " 200\n",
       " 200\n",
       " 200\n",
       " 200\n",
       " 200\n",
       " 200\n",
       " 200\n",
       " 200\n",
       "   ⋮\n",
       " 500\n",
       " 500\n",
       " 500\n",
       " 500\n",
       " 500\n",
       " 500\n",
       " 500\n",
       " 500\n",
       " 500\n",
       " 500\n",
       " 500\n",
       " 500"
      ]
     },
     "execution_count": 2,
     "metadata": {},
     "output_type": "execute_result"
    }
   ],
   "source": [
    "@time Is = sort(x; alg=InsertionSort)"
   ]
  },
  {
   "cell_type": "markdown",
   "metadata": {},
   "source": [
    "## Merge Sort"
   ]
  },
  {
   "cell_type": "code",
   "execution_count": 3,
   "metadata": {},
   "outputs": [
    {
     "name": "stdout",
     "output_type": "stream",
     "text": [
      "  0.048155 seconds (157.60 k allocations: 8.945 MiB, 8.66% gc time)\n"
     ]
    },
    {
     "data": {
      "text/plain": [
       "100000-element Array{Int64,1}:\n",
       " 200\n",
       " 200\n",
       " 200\n",
       " 200\n",
       " 200\n",
       " 200\n",
       " 200\n",
       " 200\n",
       " 200\n",
       " 200\n",
       " 200\n",
       " 200\n",
       " 200\n",
       "   ⋮\n",
       " 500\n",
       " 500\n",
       " 500\n",
       " 500\n",
       " 500\n",
       " 500\n",
       " 500\n",
       " 500\n",
       " 500\n",
       " 500\n",
       " 500\n",
       " 500"
      ]
     },
     "execution_count": 3,
     "metadata": {},
     "output_type": "execute_result"
    }
   ],
   "source": [
    "@time Ms = sort(x; alg=MergeSort)"
   ]
  },
  {
   "cell_type": "markdown",
   "metadata": {},
   "source": [
    "## Partial Quick Sort"
   ]
  },
  {
   "cell_type": "code",
   "execution_count": 4,
   "metadata": {},
   "outputs": [
    {
     "name": "stdout",
     "output_type": "stream",
     "text": [
      "  0.039385 seconds (146.30 k allocations: 8.380 MiB)\n"
     ]
    },
    {
     "data": {
      "text/plain": [
       "100000-element Array{Int64,1}:\n",
       " 200\n",
       " 200\n",
       " 200\n",
       " 200\n",
       " 200\n",
       " 200\n",
       " 200\n",
       " 200\n",
       " 200\n",
       " 200\n",
       " 200\n",
       " 200\n",
       " 200\n",
       "   ⋮\n",
       " 500\n",
       " 500\n",
       " 500\n",
       " 500\n",
       " 500\n",
       " 500\n",
       " 500\n",
       " 500\n",
       " 500\n",
       " 500\n",
       " 500\n",
       " 500"
      ]
     },
     "execution_count": 4,
     "metadata": {},
     "output_type": "execute_result"
    }
   ],
   "source": [
    "@time Ps = sort(x; alg=PartialQuickSort(1))"
   ]
  },
  {
   "cell_type": "markdown",
   "metadata": {},
   "source": [
    "## QuickSort"
   ]
  },
  {
   "cell_type": "code",
   "execution_count": 5,
   "metadata": {},
   "outputs": [
    {
     "name": "stdout",
     "output_type": "stream",
     "text": [
      "  0.020055 seconds (69.20 k allocations: 4.400 MiB)\n"
     ]
    },
    {
     "data": {
      "text/plain": [
       "100000-element Array{Int64,1}:\n",
       " 200\n",
       " 200\n",
       " 200\n",
       " 200\n",
       " 200\n",
       " 200\n",
       " 200\n",
       " 200\n",
       " 200\n",
       " 200\n",
       " 200\n",
       " 200\n",
       " 200\n",
       "   ⋮\n",
       " 500\n",
       " 500\n",
       " 500\n",
       " 500\n",
       " 500\n",
       " 500\n",
       " 500\n",
       " 500\n",
       " 500\n",
       " 500\n",
       " 500\n",
       " 500"
      ]
     },
     "execution_count": 5,
     "metadata": {},
     "output_type": "execute_result"
    }
   ],
   "source": [
    "@time Qs = sort(x; alg=QuickSort)"
   ]
  },
  {
   "cell_type": "markdown",
   "metadata": {},
   "source": [
    "## 請問哪一種排序方法的效能最好？"
   ]
  },
  {
   "cell_type": "code",
   "execution_count": null,
   "metadata": {},
   "outputs": [],
   "source": [
    " QuickSort"
   ]
  }
 ],
 "metadata": {
  "kernelspec": {
   "display_name": "Julia 1.2.0",
   "language": "julia",
   "name": "julia-1.2"
  },
  "language_info": {
   "file_extension": ".jl",
   "mimetype": "application/julia",
   "name": "julia",
   "version": "1.2.0"
  }
 },
 "nbformat": 4,
 "nbformat_minor": 4
}
